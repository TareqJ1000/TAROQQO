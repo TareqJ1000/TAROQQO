{
 "cells": [
  {
   "cell_type": "markdown",
   "id": "a1883ce2",
   "metadata": {},
   "source": [
    "# My First RNN\n",
    "\n",
    "Code which trains a recurrent NN to make predictions on points in advance of a time series dataset. It's my first RNN, so go easy on me! \n",
    "\n",
    "Written in Tensorflow"
   ]
  },
  {
   "cell_type": "code",
   "execution_count": 3,
   "id": "7f3667dd",
   "metadata": {},
   "outputs": [],
   "source": [
    "from tensorflow.keras import Sequential\n",
    "from tensorflow.keras import Model\n",
    "from tensorflow.keras.layers import Dense,LSTM\n",
    "from tensorflow.keras import optimizers # to choose more advanced optimizers like 'adam'\n",
    "\n",
    "import numpy as np "
   ]
  },
  {
   "cell_type": "markdown",
   "id": "5aeb30bf",
   "metadata": {},
   "source": [
    "As is customary, let's define a class to take in our NNs as input "
   ]
  },
  {
   "cell_type": "code",
   "execution_count": null,
   "id": "c7e32bba",
   "metadata": {},
   "outputs": [],
   "source": [
    "class rn_network(tf.Module):\n",
    "    def __init__(self, nn_type, units):\n",
    "        super(rn_network, self).__init__()\n",
    "        # Assign the architecture to the RNN instance\n",
    "        if (nn_type==0):\n",
    "            lstm_model = tf.keras.models.Sequential([\n",
    "            # Shape [batch, time, features] => [batch, time, lstm_units]\n",
    "            tf.keras.layers.LSTM(units, return_sequences=True),\n",
    "            # Shape => [batch, time, features]\n",
    "            tf.keras.layers.Dense(units=num_features)])\n",
    "            \n",
    "# Do units represent the number of time steps that we want to compute? We might need to find out here. "
   ]
  },
  {
   "cell_type": "markdown",
   "id": "9d335119",
   "metadata": {},
   "source": [
    "Load up the input and output data & prepare it for training"
   ]
  },
  {
   "cell_type": "code",
   "execution_count": 55,
   "id": "cab450b7",
   "metadata": {},
   "outputs": [],
   "source": [
    "import pandas as pd\n",
    "\n",
    "# Load csv files \n",
    "\n",
    "df_weather=pd.read_csv('Weather Data/input_weatherData.csv')\n",
    "df_scintillometer=pd.read_csv('Weather Data/output_scintillometerData_wLI.csv')\n",
    "\n",
    "def loadData(trainTest):\n",
    "    \n",
    "    temp_input = pd.read_csv('Training Datasets/input_data.csv')\n",
    "    temp_output = pd.read_csv('Training Datasets/output_data.csv')\n",
    "    \n",
    "    input_data = temp_input.to_numpy()[0:,1:]\n",
    "    output_data = temp_output.to_numpy()[0:, 1:]\n",
    "    \n",
    "    \n",
    "    # Create input/output pairs\n",
    "    \n",
    "    total_data = np.array([input_data, output_data])                           \n",
    "    \n",
    "\n",
    "    return total_data \n"
   ]
  },
  {
   "cell_type": "code",
   "execution_count": 56,
   "id": "f8c3bc48",
   "metadata": {},
   "outputs": [
    {
     "ename": "ValueError",
     "evalue": "setting an array element with a sequence. The requested array has an inhomogeneous shape after 2 dimensions. The detected shape was (2, 3963) + inhomogeneous part.",
     "output_type": "error",
     "traceback": [
      "\u001b[1;31m---------------------------------------------------------------------------\u001b[0m",
      "\u001b[1;31mValueError\u001b[0m                                Traceback (most recent call last)",
      "Cell \u001b[1;32mIn[56], line 1\u001b[0m\n\u001b[1;32m----> 1\u001b[0m tot_data \u001b[38;5;241m=\u001b[39m \u001b[43mloadData\u001b[49m\u001b[43m(\u001b[49m\u001b[38;5;241;43m0.22\u001b[39;49m\u001b[43m)\u001b[49m\n",
      "Cell \u001b[1;32mIn[55], line 19\u001b[0m, in \u001b[0;36mloadData\u001b[1;34m(trainTest)\u001b[0m\n\u001b[0;32m     14\u001b[0m output_data \u001b[38;5;241m=\u001b[39m temp_output\u001b[38;5;241m.\u001b[39mto_numpy()[\u001b[38;5;241m0\u001b[39m:, \u001b[38;5;241m1\u001b[39m:]\n\u001b[0;32m     17\u001b[0m \u001b[38;5;66;03m# Create input/output pairs\u001b[39;00m\n\u001b[1;32m---> 19\u001b[0m total_data \u001b[38;5;241m=\u001b[39m \u001b[43mnp\u001b[49m\u001b[38;5;241;43m.\u001b[39;49m\u001b[43marray\u001b[49m\u001b[43m(\u001b[49m\u001b[43m[\u001b[49m\u001b[43minput_data\u001b[49m\u001b[43m,\u001b[49m\u001b[43m \u001b[49m\u001b[43moutput_data\u001b[49m\u001b[43m]\u001b[49m\u001b[43m)\u001b[49m                           \n\u001b[0;32m     22\u001b[0m \u001b[38;5;28;01mreturn\u001b[39;00m total_data\n",
      "\u001b[1;31mValueError\u001b[0m: setting an array element with a sequence. The requested array has an inhomogeneous shape after 2 dimensions. The detected shape was (2, 3963) + inhomogeneous part."
     ]
    }
   ],
   "source": [
    "tot_data = loadData(0.22)"
   ]
  },
  {
   "cell_type": "code",
   "execution_count": null,
   "id": "9d3974ea",
   "metadata": {},
   "outputs": [],
   "source": [
    "print(input_data)"
   ]
  },
  {
   "cell_type": "code",
   "execution_count": null,
   "id": "7bfc9d02",
   "metadata": {},
   "outputs": [],
   "source": []
  },
  {
   "cell_type": "code",
   "execution_count": null,
   "id": "db39cb4d",
   "metadata": {},
   "outputs": [],
   "source": []
  }
 ],
 "metadata": {
  "kernelspec": {
   "display_name": "Python 3 (ipykernel)",
   "language": "python",
   "name": "python3"
  },
  "language_info": {
   "codemirror_mode": {
    "name": "ipython",
    "version": 3
   },
   "file_extension": ".py",
   "mimetype": "text/x-python",
   "name": "python",
   "nbconvert_exporter": "python",
   "pygments_lexer": "ipython3",
   "version": "3.9.17"
  }
 },
 "nbformat": 4,
 "nbformat_minor": 5
}
