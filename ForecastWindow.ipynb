{
 "cells": [
  {
   "cell_type": "markdown",
   "id": "5ffba922",
   "metadata": {},
   "source": [
    "# Forecast Window \n",
    "\n",
    "Let's put our best performing model to the test: we'll have a day's worth of predictions and ask the network to make a forecast on the time series then "
   ]
  },
  {
   "cell_type": "code",
   "execution_count": 130,
   "id": "fc3ef404",
   "metadata": {},
   "outputs": [],
   "source": [
    "import tensorflow as tf \n",
    "import pandas as pd\n",
    "\n",
    "import matplotlib.pyplot as plt\n",
    "import seaborn as sns \n",
    "\n",
    "import numpy as np\n",
    "from scipy import stats\n",
    "\n",
    "import os\n",
    "\n",
    "difference = 0.0\n",
    "\n",
    "# Some useful functions\n",
    "\n",
    "# Routine to normalize between 0 and 1 (Following the atmospheric turbulence paper)\n",
    "\n",
    "def norm_data(x):\n",
    "    minX = np.min(x[np.nonzero(x)])\n",
    "    maxX = np.max(x[np.nonzero(x)])\n",
    "    normed = (x - minX)/(maxX - minX)\n",
    "    \n",
    "    # Zero out any values that are above 1\n",
    "    normed[normed>1] =  0\n",
    "    \n",
    "    return normed, minX, maxX\n",
    "\n",
    "# Routine to ... UNNORMALIZE. This is done to convert the data back to the original time scale. \n",
    "\n",
    "def unnorm_data(x, minX, maxX):\n",
    "    unnorm_fac = (maxX - minX)\n",
    "    print(unnorm_fac)\n",
    "    return x*unnorm_fac + minX\n",
    "    \n",
    "# This applies a rolling average on the dataset \n",
    "\n",
    "# Function taken from a learnpython article\n",
    "\n",
    "def roll_average(input_data, window_size):\n",
    "    result = []\n",
    "    for i in range(len(input_data) - window_size + 1):\n",
    "        window = input_data[i:i+window_size]\n",
    "        window_average = sum(window)/window_size\n",
    "        result.append(window_average)\n",
    "        \n",
    "    return np.array(result)\n",
    "    \n",
    "def rollify_training(X, window_size):\n",
    "    X_features = X.shape[2]\n",
    "    \n",
    "    X_roll_len = X.shape[1] - window_size + 1\n",
    "    \n",
    "    X_roll = np.empty((len(X), X_roll_len, X_features))\n",
    "    \n",
    "    for ii in range(len(X)):\n",
    "        for jj in range(X_features):\n",
    "            X_roll[ii,:,jj] = roll_average(X[ii,:,jj], window_size)\n",
    "            \n",
    "    return X_roll\n",
    "\n",
    "# This function batches up consecutive pieces of data\n",
    "\n",
    "\n",
    "def batch_consecutive(direc_name):\n",
    "    directory_list = [name for name in os.listdir(f'{direc_name}/.')]\n",
    "    \n",
    "    prev_int = int(os.path.splitext(directory_list[0])[0])\n",
    "    total_batches = []\n",
    "    consecutive_batch = []\n",
    "    for jj, name in enumerate(directory_list):\n",
    "        name_int = int(os.path.splitext(name)[0])\n",
    "        if (name_int-prev_int==1) or (name_int-prev_int==0):\n",
    "            consecutive_batch.append(name)\n",
    "        elif(name_int-prev_int>1):\n",
    "            total_batches.append(consecutive_batch)\n",
    "            consecutive_batch = []\n",
    "        prev_int = name_int\n",
    "    total_batches.append(consecutive_batch)\n",
    "    return total_batches\n",
    "\n",
    "    \n",
    "def mse_mod(y_true, y_pred):\n",
    "\n",
    "    loss = K.mean(K.square(y_pred - y_true), axis=-1)\n",
    "    loss_true = tf.reduce_mean(loss)\n",
    "    \n",
    "    # We add a small epsillion to the MSE. This makes it so that we avoid crazy losses\n",
    "    return loss_true + 1e-8\n",
    "\n"
   ]
  },
  {
   "cell_type": "code",
   "execution_count": 258,
   "id": "db2e57d3",
   "metadata": {},
   "outputs": [],
   "source": [
    "# Routine to normalize between 0 and 1 (Following the atmospheric turbulence paper)\n",
    "\n",
    "def norm_data_select(x, minX, maxX):  \n",
    "    normed = (x - minX)/(maxX - minX)\n",
    "    \n",
    "    # Zero out any values that are above 1\n",
    "    \n",
    "    normed[normed>1] =  0\n",
    "    \n",
    "    return normed, minX, maxX\n",
    "\n",
    "\n",
    "def load_data(total_batches, time_steps, input_list, window_size, num_of_examples, minOut_X, maxOut_X, full_time_series=False, pad_output_zeros = True,  forecast_len=1, time_res=1, start_index=0):\n",
    "\n",
    "    total_input = []\n",
    "    total_output = []\n",
    "    \n",
    "    print(f'Parameter List: {input_list}')\n",
    "    \n",
    "    num_of_zeros = 0\n",
    "    num_features = len(input_list)\n",
    "    \n",
    "    \n",
    "    for jj, name in enumerate(total_batches, start=start_index):\n",
    "        \n",
    "        df = pd.read_csv(f'{direc_name}/{name}')\n",
    "        print(name)\n",
    "        #print(name)\n",
    "        # rename columns to something more decipherable \n",
    "        df = df.rename(columns={'Temp °C':'temperature', 'RH %':'relative_humidity', 'kJ/m^2':'solar_radiation'})\n",
    "        #print(df.columns)\n",
    "        #input()\n",
    "        \n",
    "        # If the prior/future CN2 columns have zero values, then continue to next iteration \n",
    "        if(df['CN2']==0).any() or (df['CN2 Future']==0).any():\n",
    "            #print(jj)\n",
    "            num_of_zeros += 1\n",
    "            print(f'number of zeros: {num_of_zeros}')\n",
    "            print('error data detected. Skipping to next value')\n",
    "            continue\n",
    "        \n",
    "        dataset_weather = np.empty((time_steps, num_features))\n",
    "        dataset_output = np.empty((output_len, 1))\n",
    "        \n",
    "        ###### INPUT DATA #######\n",
    "        \n",
    "        for ii, colName in enumerate(input_list):\n",
    "            if(colName=='CN2'):\n",
    "                dataset_weather[:,ii] = np.log10(df[colName][time_steps:].to_numpy())\n",
    "            else:\n",
    "                dataset_weather[:,ii] = df[colName][time_steps:].to_numpy()\n",
    "                \n",
    "        ###### OUTPUT DATA #######\n",
    "        \n",
    "        # In the 0th output, CN2 FUTURE\n",
    "        \n",
    "        # First, let's consider every example up to forecast length \n",
    "        nn_output  = np.log10(df[\"CN2 Future\"][:forecast_len].to_numpy())\n",
    "        \n",
    "        # Next, only consider every time_res example in the final output\n",
    "        dataset_output[:,0] = nn_output[np.mod(np.arange(len(nn_output)),time_res) == 0]\n",
    "        \n",
    "        # Let's consider wildly varying output data. Compute the difference between maximum and minimum. \n",
    "        max_CN2 = np.max(np.abs(dataset_output[:,0]))\n",
    "        min_CN2 = np.min(np.abs(dataset_output[:,0]))\n",
    "        \n",
    "        diff = np.abs(max_CN2 - min_CN2)\n",
    "        \n",
    "        if (diff >= -1):\n",
    "            total_input.append(dataset_weather)\n",
    "            total_output.append(dataset_output)\n",
    "            \n",
    "        if (jj%500==0):\n",
    "            print(f\"Data loaded:{jj}\")\n",
    "            \n",
    "        if (jj-start_index>num_of_examples):\n",
    "            print(\"Finished loading data!\")\n",
    "            break;\n",
    "                \n",
    "    total_input = np.array(total_input)\n",
    "    total_output = np.array(total_output)\n",
    "    \n",
    "    # Apply rolling average onto the input data\n",
    "    total_input = rollify_training(total_input, window_size)\n",
    "    \n",
    "    # Apply normalization to each input entry (except for CN2, this needs to be handled specially)\n",
    "    for ii in np.delete(np.arange(len(input_list)), 2):\n",
    "        #print(ii)\n",
    "       # total_input[:,:,ii], minOut,maxOut = norm_data(total_input[:,:,ii])\n",
    "        # print(minOut)\n",
    "        # print(maxOut)\n",
    "        \n",
    "        total_input[:,:,ii],_,_ = norm_data_select(total_input[:,:,ii], minOut_X[ii], maxOut_X[ii])\n",
    "\n",
    "    # If we are working with time series prediction, apply rolling on output time series\n",
    "    \n",
    "    if (full_time_series):\n",
    "        total_output = rollify_training(total_output, window_size)\n",
    "    \n",
    "    # Finally, if we're working with a time series, let's pad out the output array with 0s\n",
    "    \n",
    "    window_time_steps_input = total_input.shape[1]\n",
    "    window_time_steps_output = total_output.shape[1]\n",
    "    dataset_len = int(total_input.shape[0])\n",
    "\n",
    "    total_output_padded = np.zeros((total_input.shape[0], window_time_steps_input, 1))\n",
    "\n",
    "    total_output_padded[:,:window_time_steps_output, 0] = total_output[:,:,0]\n",
    "\n",
    "    # At this point, normalize the CN2 for BOTH input and output. This is important!\n",
    "    \n",
    "    ziggy = np.concatenate((total_input[:,:,2], total_output_padded[:,:,0]))\n",
    "    ziggy, _,_ = norm_data_select(ziggy, minOut_X[2], maxOut_X[2])\n",
    "    \n",
    "\n",
    "    total_input[0:dataset_len,:,2] = ziggy[0:dataset_len, :]\n",
    "    total_output_padded[0:dataset_len,:,0] = ziggy[dataset_len::,:]\n",
    "    \n",
    "    if(full_time_series):\n",
    "        if (pad_output_zeros==False):\n",
    "            total_output[:,:,0] = total_output_padded[:,0:output_len,0]\n",
    "            return total_input, total_output, minOut, maxOut\n",
    "        return total_input, total_output_padded, minOut, maxOut \n",
    "    else:\n",
    "        return total_input, total_output_padded[:,0], minOut, maxOut\n",
    "    \n",
    "    "
   ]
  },
  {
   "cell_type": "markdown",
   "id": "040be6de",
   "metadata": {},
   "source": [
    "# Some tests"
   ]
  },
  {
   "cell_type": "markdown",
   "id": "dc1f45a2",
   "metadata": {},
   "source": [
    "To begin, load the champion model"
   ]
  },
  {
   "cell_type": "code",
   "execution_count": 213,
   "id": "23159129",
   "metadata": {},
   "outputs": [],
   "source": [
    "fifthteenMin_timeRes =  'trainSeries_15MinInput_6Hour_9487'\n",
    "\n",
    "#fifthteenMin_timeRes = 'trainSeries_oneHourWindow_4Hour_5364'\n",
    "\n",
    "loaded_model = tf.keras.models.load_model(f'models/{fifthteenMin_timeRes}', custom_objects={'mse_mod':mse_mod})"
   ]
  },
  {
   "cell_type": "markdown",
   "id": "73a050c7",
   "metadata": {},
   "source": [
    "Load the data"
   ]
  },
  {
   "cell_type": "code",
   "execution_count": 275,
   "id": "c77371ca",
   "metadata": {},
   "outputs": [
    {
     "name": "stdout",
     "output_type": "stream",
     "text": [
      "Parameter List: ['relative_humidity', 'solar_radiation', 'CN2', 'temperature']\n",
      "00001347.csv\n",
      "Data loaded:0\n",
      "00001348.csv\n",
      "00001349.csv\n",
      "00001350.csv\n",
      "00001351.csv\n",
      "00001352.csv\n",
      "00001353.csv\n"
     ]
    }
   ],
   "source": [
    "\n",
    "input_features = ['relative_humidity', 'solar_radiation', 'CN2', 'temperature']\n",
    "\n",
    "# For consistency, normalize the data wrt training. \n",
    "\n",
    "minOut_X = [25.47199, -0.3995518, -16.46344155742847, -18.04353]\n",
    "maxOut_X = [99.52488, 71.5599, -13.787812395596042, 32.07004]\n",
    "\n",
    "time_len = 720\n",
    "time_res = 15\n",
    "forecast_len = 360\n",
    "output_len = int(forecast_len/time_res)\n",
    "start_index =  0\n",
    "batch_index = -4\n",
    "\n",
    "direc_name = f\"Batched Data/OneMinResolution_4HourSkip\" # yaml worthy\n",
    "total_batches = batch_consecutive(direc_name)\n",
    "\n",
    "X, y, minOut, maxOut = load_data(total_batches[batch_index], time_len, input_features, 1, 2000, minOut_X, maxOut_X, full_time_series=True, pad_output_zeros=False, forecast_len=forecast_len, time_res=time_res, start_index=start_index)\n",
    "# minOut = -16.46344155742847\n",
    "# maxOut = -13.787812395596042\n",
    "#print(len(y))\n"
   ]
  },
  {
   "cell_type": "code",
   "execution_count": 272,
   "id": "30400cea",
   "metadata": {
    "scrolled": true
   },
   "outputs": [
    {
     "data": {
      "text/plain": [
       "0.00410305515973928"
      ]
     },
     "execution_count": 272,
     "metadata": {},
     "output_type": "execute_result"
    }
   ],
   "source": [
    "np.min(X)"
   ]
  },
  {
   "cell_type": "markdown",
   "id": "21eff1ac",
   "metadata": {},
   "source": [
    "Compute predictions from each loaded time series to create a predicted 12 hour time series "
   ]
  },
  {
   "cell_type": "code",
   "execution_count": 273,
   "id": "dd7b9825",
   "metadata": {},
   "outputs": [
    {
     "name": "stdout",
     "output_type": "stream",
     "text": [
      "2.089610774266557\n"
     ]
    }
   ],
   "source": [
    "def rms(y_true, y_pred):\n",
    "    root_mean = np.sqrt((y_true - y_pred)**2)\n",
    "    return root_mean \n",
    "\n",
    "forecasts = []\n",
    "\n",
    "total_forecasts = np.array([])\n",
    "y_total = np.array([])\n",
    "\n",
    "for ii in range(len(y)):\n",
    "    munky = tf.expand_dims(X[ii,:,:], axis=0)\n",
    "    preds = loaded_model.predict(munky, verbose=False)\n",
    "    preds = np.array(preds[0]).flatten()\n",
    "    \n",
    "    total_forecasts = np.concatenate([total_forecasts, preds])\n",
    "    y_total = np.concatenate((y_total,y[ii,:,0]))\n",
    "    \n",
    "total_hours = len(total_forecasts)\n",
    "#foxy = rms(total_forecasts, y_total)\n",
    "#print(np.mean(foxy))\n",
    "\n",
    "total_forecasts = 10**(unnorm_data(total_forecasts, minOut, maxOut))\n",
    "\n",
    "# total_forecast = np.concatenate((forecasts[0,:], forecasts[1,:], forecasts[2,:], forecasts[3,:], forecasts[4,:], forecasts[5,:]))\n",
    "# y_total = np.concatenate((y[0,:,0], y[1,:,0], y[2,:,0], y[3,:,0], y[4,:,0], y[5,:,0]))\n",
    "\n",
    "#foxy = rms(total_forecast, y_total)"
   ]
  },
  {
   "cell_type": "code",
   "execution_count": 268,
   "id": "a2072540",
   "metadata": {},
   "outputs": [
    {
     "data": {
      "text/plain": [
       "216"
      ]
     },
     "execution_count": 268,
     "metadata": {},
     "output_type": "execute_result"
    }
   ],
   "source": [
    "len(total_forecasts)"
   ]
  },
  {
   "cell_type": "markdown",
   "id": "38c68e62",
   "metadata": {},
   "source": [
    "Plot the forecast"
   ]
  },
  {
   "cell_type": "code",
   "execution_count": 274,
   "id": "f8be9757",
   "metadata": {},
   "outputs": [
    {
     "name": "stdout",
     "output_type": "stream",
     "text": [
      "2.089610774266557\n"
     ]
    },
    {
     "data": {
      "text/plain": [
       "<matplotlib.legend.Legend at 0x1ccba6ae910>"
      ]
     },
     "execution_count": 274,
     "metadata": {},
     "output_type": "execute_result"
    },
    {
     "data": {
      "image/png": "[encoded data removed]",
      "text/plain": [
       "<Figure size 640x480 with 1 Axes>"
      ]
     },
     "metadata": {},
     "output_type": "display_data"
    }
   ],
   "source": [
    "hours = np.arange(total_hours)\n",
    "y_CN2 = 10**(unnorm_data(y_total, minOut, maxOut))\n",
    "\n",
    "plt.plot(hours, y_CN2, label='Original')\n",
    "plt.yscale('log')\n",
    "plt.ylim(10**-17, 10**-13)\n",
    "plt.xlabel('Hours')\n",
    "plt.ylabel('Forecast (July 22nd)')\n",
    "plt.plot(hours, total_forecasts, label='Forecast')\n",
    "plt.legend()\n"
   ]
  },
  {
   "cell_type": "code",
   "execution_count": 16,
   "id": "818c050a",
   "metadata": {},
   "outputs": [
    {
     "data": {
      "text/plain": [
       "576"
      ]
     },
     "execution_count": 16,
     "metadata": {},
     "output_type": "execute_result"
    }
   ],
   "source": [
    "144*4"
   ]
  },
  {
   "cell_type": "code",
   "execution_count": null,
   "id": "14b72b07",
   "metadata": {},
   "outputs": [],
   "source": []
  }
 ],
 "metadata": {
  "kernelspec": {
   "display_name": "Python 3 (ipykernel)",
   "language": "python",
   "name": "python3"
  },
  "language_info": {
   "codemirror_mode": {
    "name": "ipython",
    "version": 3
   },
   "file_extension": ".py",
   "mimetype": "text/x-python",
   "name": "python",
   "nbconvert_exporter": "python",
   "pygments_lexer": "ipython3",
   "version": "3.11.5"
  }
 },
 "nbformat": 4,
 "nbformat_minor": 5
}
