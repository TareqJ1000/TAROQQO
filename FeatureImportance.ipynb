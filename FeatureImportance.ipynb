{
 "cells": [
  {
   "cell_type": "markdown",
   "id": "1acb0cc8",
   "metadata": {},
   "source": [
    "# Feature Importance \n",
    "\n",
    "Code which, given a trained model, calculates the importance of features on unseen data. We apply the Permutation Feature Importance technique. Inspired by https://scikit-learn.org/stable/modules/permutation_importance.html"
   ]
  },
  {
   "cell_type": "code",
   "execution_count": 8,
   "id": "0d9c846b",
   "metadata": {},
   "outputs": [],
   "source": [
    "import numpy as np \n",
    "import scipy as sp \n",
    "from sklearn.inspection import permutation_importance \n",
    "\n",
    "import tensorflow as tf \n",
    "import pandas as pd\n",
    "\n",
    "import matplotlib.pyplot as plt "
   ]
  },
  {
   "cell_type": "markdown",
   "id": "48bf1549",
   "metadata": {},
   "source": [
    "We explicitly specify the loss function used to train the network. "
   ]
  },
  {
   "cell_type": "code",
   "execution_count": 9,
   "id": "270a51d1",
   "metadata": {},
   "outputs": [],
   "source": [
    "# Slight modification of the existing MSE metric used to evalutate the model training performance. \n",
    "# y_true - Tensorflow Tensor - actual time series \n",
    "# y_pred - Tensorflow Tensor - predicted time series. \n",
    "    \n",
    "def mse_mod(y_true, y_pred):\n",
    "\n",
    "    loss = K.mean(K.square(y_pred - y_true), axis=-1)\n",
    "    loss_true = tf.reduce_mean(loss)\n",
    "    \n",
    "    # We add a small epsillion to the MSE. This makes it so that we avoid crazy losses\n",
    "    return loss_true + 1e-8\n"
   ]
  },
  {
   "cell_type": "markdown",
   "id": "240ed64d",
   "metadata": {},
   "source": [
    "Load the model "
   ]
  },
  {
   "cell_type": "code",
   "execution_count": 10,
   "id": "f58a2bc7",
   "metadata": {},
   "outputs": [],
   "source": [
    "full_model = 'fullModel_FebMar_7318'\n",
    "\n",
    "loaded_model = tf.keras.models.load_model(f'models/{full_model}', custom_objects={'mse_mod':mse_mod})"
   ]
  },
  {
   "cell_type": "markdown",
   "id": "e0042557",
   "metadata": {},
   "source": [
    "Load the test data created during the model's training. "
   ]
  },
  {
   "cell_type": "code",
   "execution_count": 11,
   "id": "13a34a35",
   "metadata": {},
   "outputs": [],
   "source": [
    "import os \n",
    "import pickle as pkl \n",
    "\n",
    "#direc_name = f\"dataset/OneMinResolution_OneHourWindow\" # yaml worthy\n",
    "\n",
    "with open(f'dataset/{full_model}_testData.pkl', 'rb') as f:\n",
    "    X_test, y_test = pkl.load(f)"
   ]
  },
  {
   "cell_type": "markdown",
   "id": "bada6d1e",
   "metadata": {},
   "source": [
    "The permutation function isn't natively compatible with tensorflow, so we build our own! "
   ]
  },
  {
   "cell_type": "code",
   "execution_count": 14,
   "id": "b5762dab",
   "metadata": {},
   "outputs": [],
   "source": [
    "# permutes feature_index column of a given dataset X. We can permute multiple examples at once using the \"num_examples\" function\n",
    "# X - multi-dimensional numpy array - input dataset\n",
    "# num_examples - int - number of examples to corrupt\n",
    "# feature_index - int - desired feature \n",
    "\n",
    "def data_corrupter(X, num_examples, feature_index):\n",
    "    dark_X = np.copy(X)\n",
    "    temp = dark_X\n",
    "    shuffleInts = np.arange(720)\n",
    "    np.random.shuffle(shuffleInts)\n",
    "    if (len(feature_index)>1):\n",
    "        dark_X[0:num_examples,:,feature_index] = dark_X[0:num_examples, shuffleInts[:,None], feature_index]\n",
    "    else:\n",
    "        dark_X[0:num_examples,:,feature_index] = dark_X[0:num_examples, shuffleInts, feature_index]\n",
    "    return dark_X \n",
    "\n",
    "# Rather than permuting the feature_index column, we remove it entirely by \"zero\"ing it out. \n",
    "# X - multi-dimensional numpy array - input dataset\n",
    "# num_examples - int - number of examples to corrupt\n",
    "# feature_index - int - desired feature \n",
    "\n",
    "def data_subtractor(X, num_examples, feature_index):\n",
    "    empty_X = np.copy(X)\n",
    "    empty_X[0:num_examples,:,feature_index] = 0\n",
    "    \n",
    "    return empty_X\n",
    "\n",
    "# Computes the root mean squared error between the true and predicted time series \n",
    "# y_true - actual time series\n",
    "# y_pred - predicted time series\n",
    "\n",
    "def rms(y_true, y_pred): \n",
    "    root_mean = np.sqrt((y_true - y_pred)**2)\n",
    "    return root_mean \n",
    "\n",
    "# Computes the score of the model when corrupting the input dataset. We also consider pre-defined combinations of features permuted together\n",
    "# model - Tensorflow Model - the loaded model \n",
    "# X - multi-dimensional array - the original input dataset \n",
    "# y - multi-dimensional array - time series \n",
    "# num_examples - int - number of examples\n",
    "# num_repetitions - int - number of times to repeat excecuting the algorithm \n",
    "# permute - Boolean - do we enable the standard protocol, where we permute each feature column at random \n",
    "# subtract - Boolean - do we zero out the feature altogether from the final model \n",
    "# multiple - boolean - do we permute multiple features together? These are pre-defined in the function for now. \n",
    "\n",
    "def compute_score(model, X, y, num_examples, num_repetitions, permute=True, subtract=False, multiple=False):\n",
    "    X_shape = np.shape(X)\n",
    "    if (multiple): # (pressure, temp), (pressure, temp, wind speed), (pressure, temp, rel. humidity), (pressure, temp, relative humidity)\n",
    "        num_of_features=[[2,3], [2,3,4], [2,3,0], [2,3,4,0]]\n",
    "    else:\n",
    "        num_of_features = np.arange(X_shape[-1])\n",
    "\n",
    "    num_of_examples = X_shape[0]\n",
    "    \n",
    "    len_num_features = len(num_of_features)\n",
    "    print(len_num_features)\n",
    "    \n",
    "    # Create a array that stores the scores for each feature and for each repetition of the algorithm \n",
    "    \n",
    "    scores = np.zeros((len_num_features, num_repetitions))\n",
    "    \n",
    "    # Now let's make the model predict w/ corrupted data, and compute the score. \n",
    "    \n",
    "    for ii, feat in enumerate(num_of_features):\n",
    "        print(feat)\n",
    "        for jj in range(num_repetitions): \n",
    "            print(jj)\n",
    "            # Corrupt X. Either we permute the iith column, or we zero it out.\n",
    "            if (permute):\n",
    "                dark_X = data_corrupter(X, num_examples, feat)\n",
    "            elif(subtract):\n",
    "                dark_X = data_subtractor(X, num_examples, feat)\n",
    "            #dark_X = data_corrupter(X, num_examples, ii)\n",
    "            dark_X_extend = dark_X[0:num_examples,:,:]\n",
    "            preds = model.predict(dark_X_extend, verbose=False)\n",
    "            preds = np.array(preds)\n",
    "            y_true = y[0:num_examples,:]\n",
    "            # Compute the RMSE\n",
    "            score = np.mean(rms(preds,y_true))\n",
    "            scores[ii, jj] = score\n",
    "            print(score)\n",
    "    return scores\n"
   ]
  },
  {
   "cell_type": "markdown",
   "id": "e23ee0fc",
   "metadata": {},
   "source": [
    "Compute the scores"
   ]
  },
  {
   "cell_type": "code",
   "execution_count": null,
   "id": "2c38e42b",
   "metadata": {},
   "outputs": [],
   "source": [
    "theScores = compute_score(loaded_model, X_test, y_test, 1000, 3, multiple=True)"
   ]
  },
  {
   "cell_type": "markdown",
   "id": "db2f3c96",
   "metadata": {},
   "source": [
    "This might take some time to compute. We save the values we got for future reference. "
   ]
  },
  {
   "cell_type": "code",
   "execution_count": 9,
   "id": "df87ced1",
   "metadata": {},
   "outputs": [
    {
     "ename": "NameError",
     "evalue": "name 'theScores' is not defined",
     "output_type": "error",
     "traceback": [
      "\u001b[1;31m---------------------------------------------------------------------------\u001b[0m",
      "\u001b[1;31mNameError\u001b[0m                                 Traceback (most recent call last)",
      "Cell \u001b[1;32mIn[9], line 1\u001b[0m\n\u001b[1;32m----> 1\u001b[0m np\u001b[38;5;241m.\u001b[39msavetxt(\u001b[38;5;124m'\u001b[39m\u001b[38;5;124mscores_1000_3_correlation\u001b[39m\u001b[38;5;124m'\u001b[39m, \u001b[43mtheScores\u001b[49m)\n",
      "\u001b[1;31mNameError\u001b[0m: name 'theScores' is not defined"
     ]
    }
   ],
   "source": [
    "np.savetxt('scores_1000_3_correlation', theScores)"
   ]
  },
  {
   "cell_type": "markdown",
   "id": "321d4016",
   "metadata": {},
   "source": [
    "If you've already done the calcs, load the score values. "
   ]
  },
  {
   "cell_type": "code",
   "execution_count": 18,
   "id": "04c16196",
   "metadata": {},
   "outputs": [],
   "source": [
    "theScores = np.loadtxt('scores_1000_3')"
   ]
  },
  {
   "cell_type": "markdown",
   "id": "9e661b1b",
   "metadata": {},
   "source": [
    "The time is nigh to calculate the permutation importance "
   ]
  },
  {
   "cell_type": "code",
   "execution_count": 19,
   "id": "9e15d500",
   "metadata": {},
   "outputs": [
    {
     "name": "stdout",
     "output_type": "stream",
     "text": [
      "0.01345992188276089\n",
      "Importance (division): [ 1.57991127  1.54690108  1.19086011  1.12718721  1.16555624  1.05697912\n",
      "  3.21600449  3.59390868  1.00018941  0.99905523 10.83517168]\n",
      "Importance (subtraction): [ 7.80556033e-03  7.36124584e-03  2.56896221e-03  1.71192988e-03\n",
      "  2.22837403e-03  7.66934502e-04  2.98272473e-02  3.49138081e-02\n",
      "  2.54943375e-06 -1.27165501e-05  1.32380643e-01]\n"
     ]
    }
   ],
   "source": [
    "# Computes the permutation feature importance for each feature \n",
    "# num_examples - number of examples \n",
    "# X - input dataset\n",
    "# y - output time series \n",
    "# model - loaded model \n",
    "# scores - multi-dimensional array - model scores for each feature \n",
    "\n",
    "def compute_importance(num_examples, X, y, model, scores):\n",
    "    X_shape = np.shape(X)\n",
    "    num_of_features = X_shape[-1]\n",
    "    num_of_examples = X_shape[0]\n",
    "    \n",
    "    # Start by computing the performance of the OG model\n",
    "    \n",
    "    light_X_extend = X[0:num_examples,:,:]\n",
    "    preds = model.predict(light_X_extend, verbose=False)\n",
    "    preds = np.array(preds)\n",
    "    y_true = y[0:num_examples,:]\n",
    "    \n",
    "    # Compute the RMSE\n",
    "    light_score = np.mean(rms(preds,y_true))\n",
    "    print(light_score)\n",
    "    \n",
    "    # importance metrics\n",
    "    importance_div = scores/light_score \n",
    "    importance_sub = scores - light_score \n",
    "    \n",
    "    # Compute the mean and variance for each metric  \n",
    "    importance_div_mean = np.mean(importance_div, axis=1)\n",
    "    importance_div_var = np.var(importance_div, axis=1)\n",
    "    \n",
    "    importance_sub_mean = np.mean(importance_sub, axis=1)\n",
    "    importance_sub_var = np.var(importance_sub, axis=1)\n",
    "    \n",
    "    print(f\"Importance (division): {importance_div_mean}\")\n",
    "    print(f\"Importance (subtraction): {importance_sub_mean}\")\n",
    "    \n",
    "    return importance_div_mean, importance_div_var, importance_sub_mean, importance_sub_var\n",
    "    \n",
    "importance_div_mean, importance_div_var, importance_sub_mean, importance_sub_var = compute_importance(1000, X_test, y_test, loaded_model, theScores)"
   ]
  },
  {
   "cell_type": "markdown",
   "id": "732dfd8c",
   "metadata": {},
   "source": [
    "bar plot the mean and variance of the PFI for each feature. "
   ]
  },
  {
   "cell_type": "code",
   "execution_count": 20,
   "id": "ddff8931",
   "metadata": {},
   "outputs": [
    {
     "data": {
      "image/png": "[encoded data removed]",
      "text/plain": [
       "<Figure size 2400x400 with 1 Axes>"
      ]
     },
     "metadata": {},
     "output_type": "display_data"
    }
   ],
   "source": [
    "import seaborn as sns\n",
    "\n",
    "input_features = ['Relative Humidity', 'Solar Radiation', 'Temperature', 'Pressure', 'Wind Speed', 'SOG', '$\\sin(time)$', '$\\cos(time)$', '$\\sin(day)$', '$\\cos(day)$', '$C_{n}^{2}$']\n",
    "#input_features = ['Temperature & Pressure', 'Temperature, Pressure & Wind Speed', 'Temperature, Pressure & Relative Humidity', 'Temperature, Pressure, Relative Humidity & Wind Speed' ]\n",
    "\n",
    "data = {\n",
    "    \n",
    "    'Input Features' : input_features,\n",
    "    'Importance': importance_div_mean,\n",
    "    'importance_var': np.sqrt(importance_div_var)\n",
    "}\n",
    "\n",
    "df = pd.DataFrame(data)\n",
    "# Set font sizes\n",
    "plt.rcParams['axes.labelsize'] = 14\n",
    "plt.rcParams['axes.titlesize'] = 16\n",
    "plt.rcParams['xtick.labelsize'] = 14\n",
    "plt.rcParams['ytick.labelsize'] = 14\n",
    "\n",
    "fig, ax = plt.subplots(figsize=(24,4))\n",
    "# Set font sizes\n",
    "ax=sns.barplot(x='Input Features', y='Importance', data=df, yerr=df['importance_var'])\n",
    "#ax.set_xlabel(fontsize=22)\n",
    "#plt.show()"
   ]
  },
  {
   "cell_type": "markdown",
   "id": "fb8f01b7",
   "metadata": {},
   "source": [
    "save the bar plot "
   ]
  },
  {
   "cell_type": "code",
   "execution_count": 70,
   "id": "73152793",
   "metadata": {},
   "outputs": [],
   "source": [
    "plt.savefig('feature_importance.pdf', format='pdf', bbox_inches='tight')"
   ]
  }
 ],
 "metadata": {
  "kernelspec": {
   "display_name": "Python 3 (ipykernel)",
   "language": "python",
   "name": "python3"
  },
  "language_info": {
   "codemirror_mode": {
    "name": "ipython",
    "version": 3
   },
   "file_extension": ".py",
   "mimetype": "text/x-python",
   "name": "python",
   "nbconvert_exporter": "python",
   "pygments_lexer": "ipython3",
   "version": "3.9.17"
  }
 },
 "nbformat": 4,
 "nbformat_minor": 5
}
